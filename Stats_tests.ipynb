{
 "cells": [
  {
   "cell_type": "code",
   "execution_count": 48,
   "metadata": {},
   "outputs": [],
   "source": [
    "import numpy as np\n",
    "import matplotlib.pyplot as plt\n",
    "import random"
   ]
  },
  {
   "cell_type": "markdown",
   "metadata": {},
   "source": [
    "# Tissue - oncogene correaltion (failed test)"
   ]
  },
  {
   "cell_type": "code",
   "execution_count": 2,
   "metadata": {},
   "outputs": [],
   "source": [
    "compacted = np.loadtxt(open(\"truncated_compacted.csv\", \"rb\"), delimiter=\",\", skiprows=1)\n",
    "compacted = np.array(compacted, dtype=\"int\")"
   ]
  },
  {
   "cell_type": "code",
   "execution_count": 3,
   "metadata": {},
   "outputs": [],
   "source": [
    "def compute_avg_hamming_dist(mtx):\n",
    "    avg_dist = 0\n",
    "    for i in range(len(mtx) - 1):\n",
    "        for j in range(i, len(mtx)):\n",
    "            hamming_dist = 0\n",
    "            a = (mtx[i] == 0)\n",
    "            b = (mtx[j] == 0)\n",
    "            for k in range(len(a)):\n",
    "                #if mtx[i][k] != mtx[j][k]:\n",
    "                if a[k] != b[k]:\n",
    "                    hamming_dist += 1\n",
    "            avg_dist += hamming_dist/len(a)\n",
    "    return avg_dist"
   ]
  },
  {
   "cell_type": "code",
   "execution_count": 4,
   "metadata": {},
   "outputs": [],
   "source": [
    "def random_tissue_idx(mtx):\n",
    "    result = np.array(mtx)\n",
    "    i = 0\n",
    "    for row in result:\n",
    "        np.random.shuffle(row)\n",
    "    return result"
   ]
  },
  {
   "cell_type": "code",
   "execution_count": 5,
   "metadata": {},
   "outputs": [
    {
     "data": {
      "text/plain": [
       "70.00000000000017"
      ]
     },
     "execution_count": 5,
     "metadata": {},
     "output_type": "execute_result"
    }
   ],
   "source": [
    "compute_avg_hamming_dist(compacted)"
   ]
  },
  {
   "cell_type": "code",
   "execution_count": 6,
   "metadata": {},
   "outputs": [
    {
     "data": {
      "text/plain": [
       "102.11111111111133"
      ]
     },
     "execution_count": 6,
     "metadata": {},
     "output_type": "execute_result"
    }
   ],
   "source": [
    "new = random_tissue_idx(compacted)\n",
    "compute_avg_hamming_dist(new)"
   ]
  },
  {
   "cell_type": "markdown",
   "metadata": {},
   "source": [
    "### The test above only shows that some of the oncogenes are tissue-specified but does not give any clue on which oncogene is tissue-specified and which is not"
   ]
  },
  {
   "cell_type": "code",
   "execution_count": null,
   "metadata": {},
   "outputs": [],
   "source": []
  },
  {
   "cell_type": "markdown",
   "metadata": {},
   "source": [
    "# Permutation test"
   ]
  },
  {
   "cell_type": "code",
   "execution_count": 51,
   "metadata": {},
   "outputs": [],
   "source": [
    "Lines = []\n",
    "with open(\"compacted.csv\", \"r\") as f:\n",
    "    Lines = f.readlines()\n",
    "tissues = Lines[0].split(\",\")\n",
    "tissues = [t.split('\"')[1] for t in tissues][:-2]\n",
    "genes = [(l.split(\",\")[-2]).split('\"')[1] for l in Lines[1:]]\n",
    "n_g_t = np.array([list(map(int, l.split(\",\")[:-2])) for l in Lines[1:]])\n",
    "n_g = [(l.split(\",\")[-1]).split(\"\\n\")[0] for l in Lines[1:]]\n",
    "n_g = np.array(n_g, dtype=\"int\")\n",
    "n_max_g = np.amax(n_g_t, 1)"
   ]
  },
  {
   "cell_type": "code",
   "execution_count": 52,
   "metadata": {},
   "outputs": [],
   "source": [
    "def permutation_test(n_g, n_max_g, n_g_t, N=1000):\n",
    "    n_gene, n_tissue = n_g_t.shape\n",
    "    frac_list = np.zeros(n_gene)\n",
    "    for n in range(N):\n",
    "        for g in range(n_gene):\n",
    "            temp_row = np.zeros(n_tissue)\n",
    "            for i in range(n_g[g]):\n",
    "                t_idx = random.randint(0, n_tissue-1)\n",
    "                temp_row[t_idx] += 1\n",
    "            if np.max(temp_row) >= n_max_g[g]:\n",
    "                frac_list[g] += 1\n",
    "    return frac_list / N"
   ]
  },
  {
   "cell_type": "code",
   "execution_count": 53,
   "metadata": {},
   "outputs": [],
   "source": [
    "frac_list = permutation_test(n_g, n_max_g, n_g_t)"
   ]
  },
  {
   "cell_type": "code",
   "execution_count": 57,
   "metadata": {},
   "outputs": [
    {
     "data": {
      "text/plain": [
       "array([0.   , 0.001, 0.   , 0.   , 0.   , 0.083, 0.   , 0.056, 0.   ,\n",
       "       0.047, 0.001, 0.019, 0.024, 0.432, 0.   , 0.   , 0.021, 0.   ,\n",
       "       0.011, 0.291, 0.285, 0.287, 0.282, 0.294, 0.29 , 0.3  , 0.252,\n",
       "       0.302, 0.   , 0.289, 0.001])"
      ]
     },
     "execution_count": 57,
     "metadata": {},
     "output_type": "execute_result"
    }
   ],
   "source": [
    "frac_list"
   ]
  },
  {
   "cell_type": "code",
   "execution_count": 59,
   "metadata": {},
   "outputs": [
    {
     "data": {
      "image/png": "[encoded data removed]",
      "text/plain": [
       "<Figure size 1872x432 with 1 Axes>"
      ]
     },
     "metadata": {
      "needs_background": "light"
     },
     "output_type": "display_data"
    }
   ],
   "source": [
    "x_pos = range(len(genes))\n",
    "colors = ['blue'] * len(genes)\n",
    "for i in range(len(frac_list)):\n",
    "    if frac_list[i] < 0.05:\n",
    "        colors[i] = 'red'\n",
    "\n",
    "fig = plt.figure(1, [26, 6])\n",
    "plt.bar(x_pos, frac_list, color=colors)\n",
    "plt.xticks(x_pos, genes)\n",
    "plt.show()"
   ]
  },
  {
   "cell_type": "code",
   "execution_count": 60,
   "metadata": {},
   "outputs": [
    {
     "name": "stdout",
     "output_type": "stream",
     "text": [
      "EGFR\n",
      "PVT1\n",
      "MYC\n",
      "MYCL\n",
      "TBC1D3C\n",
      "AGAP2\n",
      "CDK4\n",
      "ZNF703\n",
      "KIT\n",
      "LHX1\n",
      "MYCN\n",
      "TBC1D3\n",
      "WNT3\n",
      "YEATS4\n",
      "ZFAS1\n",
      "CTTN\n",
      "SALL4\n",
      "SNAI1\n"
     ]
    }
   ],
   "source": [
    "for i in range(len(frac_list)):\n",
    "    if frac_list[i] < 0.05:\n",
    "        print(genes[i])"
   ]
  },
  {
   "cell_type": "code",
   "execution_count": null,
   "metadata": {},
   "outputs": [],
   "source": []
  }
 ],
 "metadata": {
  "kernelspec": {
   "display_name": "Python 3",
   "language": "python",
   "name": "python3"
  },
  "language_info": {
   "codemirror_mode": {
    "name": "ipython",
    "version": 3
   },
   "file_extension": ".py",
   "mimetype": "text/x-python",
   "name": "python",
   "nbconvert_exporter": "python",
   "pygments_lexer": "ipython3",
   "version": "3.7.3"
  }
 },
 "nbformat": 4,
 "nbformat_minor": 2
}
