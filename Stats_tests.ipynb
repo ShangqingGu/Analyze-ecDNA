{
 "cells": [
  {
   "cell_type": "code",
   "execution_count": 1,
   "metadata": {},
   "outputs": [],
   "source": [
    "import numpy as np\n",
    "import matplotlib.pyplot as plt"
   ]
  },
  {
   "cell_type": "markdown",
   "metadata": {},
   "source": [
    "# Tissue - oncogene correaltion (failed test)"
   ]
  },
  {
   "cell_type": "code",
   "execution_count": 2,
   "metadata": {},
   "outputs": [],
   "source": [
    "compacted = np.loadtxt(open(\"truncated_compacted.csv\", \"rb\"), delimiter=\",\", skiprows=1)\n",
    "compacted = np.array(compacted, dtype=\"int\")"
   ]
  },
  {
   "cell_type": "code",
   "execution_count": 3,
   "metadata": {},
   "outputs": [],
   "source": [
    "def compute_avg_hamming_dist(mtx):\n",
    "    avg_dist = 0\n",
    "    for i in range(len(mtx) - 1):\n",
    "        for j in range(i, len(mtx)):\n",
    "            hamming_dist = 0\n",
    "            a = (mtx[i] == 0)\n",
    "            b = (mtx[j] == 0)\n",
    "            for k in range(len(a)):\n",
    "                #if mtx[i][k] != mtx[j][k]:\n",
    "                if a[k] != b[k]:\n",
    "                    hamming_dist += 1\n",
    "            avg_dist += hamming_dist/len(a)\n",
    "    return avg_dist"
   ]
  },
  {
   "cell_type": "code",
   "execution_count": 4,
   "metadata": {},
   "outputs": [],
   "source": [
    "def random_tissue_idx(mtx):\n",
    "    result = np.array(mtx)\n",
    "    i = 0\n",
    "    for row in result:\n",
    "        np.random.shuffle(row)\n",
    "    return result"
   ]
  },
  {
   "cell_type": "code",
   "execution_count": 5,
   "metadata": {},
   "outputs": [
    {
     "data": {
      "text/plain": [
       "70.00000000000017"
      ]
     },
     "execution_count": 5,
     "metadata": {},
     "output_type": "execute_result"
    }
   ],
   "source": [
    "compute_avg_hamming_dist(compacted)"
   ]
  },
  {
   "cell_type": "code",
   "execution_count": 6,
   "metadata": {},
   "outputs": [
    {
     "data": {
      "text/plain": [
       "102.11111111111133"
      ]
     },
     "execution_count": 6,
     "metadata": {},
     "output_type": "execute_result"
    }
   ],
   "source": [
    "new = random_tissue_idx(compacted)\n",
    "compute_avg_hamming_dist(new)"
   ]
  },
  {
   "cell_type": "markdown",
   "metadata": {},
   "source": [
    "### The test above only shows that some of the oncogenes are tissue-specified but does not give any clue on which oncogene is tissue-specified and which is not"
   ]
  },
  {
   "cell_type": "code",
   "execution_count": null,
   "metadata": {},
   "outputs": [],
   "source": []
  },
  {
   "cell_type": "markdown",
   "metadata": {},
   "source": [
    "# Permutation test"
   ]
  },
  {
   "cell_type": "code",
   "execution_count": null,
   "metadata": {},
   "outputs": [],
   "source": []
  }
 ],
 "metadata": {
  "kernelspec": {
   "display_name": "Python 3",
   "language": "python",
   "name": "python3"
  },
  "language_info": {
   "codemirror_mode": {
    "name": "ipython",
    "version": 3
   },
   "file_extension": ".py",
   "mimetype": "text/x-python",
   "name": "python",
   "nbconvert_exporter": "python",
   "pygments_lexer": "ipython3",
   "version": "3.7.3"
  }
 },
 "nbformat": 4,
 "nbformat_minor": 2
}
